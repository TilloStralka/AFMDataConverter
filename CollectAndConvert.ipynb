{
 "cells": [
  {
   "cell_type": "code",
   "execution_count": 1,
   "metadata": {},
   "outputs": [
    {
     "data": {
      "text/plain": [
       "'\\nWriter: \\nTillmann Stralka 2021.Jan. 18th\\nOwner: \\nHLP University of Leipzig\\nAbout:\\nPython version 2.7\\nFinding tiffs and gwys in folder, extracting time of measurement, assembling \\nthem in gwy file with multible dataframe container \\n'"
      ]
     },
     "execution_count": 1,
     "metadata": {},
     "output_type": "execute_result"
    }
   ],
   "source": [
    "\"\"\"\n",
    "Writer: \n",
    "Tillmann Stralka 2021.Jan. 18th\n",
    "Owner: \n",
    "HLP University of Leipzig\n",
    "About:\n",
    "Python version 2.7\n",
    "Finding tiffs and gwys in folder, extracting time of measurement, assembling \n",
    "them in gwy file with multible dataframe container \n",
    "\"\"\""
   ]
  },
  {
   "cell_type": "code",
   "execution_count": 2,
   "metadata": {},
   "outputs": [
    {
     "ename": "ImportError",
     "evalue": "No module named gtk",
     "output_type": "error",
     "traceback": [
      "\u001b[0;31m\u001b[0m",
      "\u001b[0;31mImportError\u001b[0mTraceback (most recent call last)",
      "\u001b[0;32m<ipython-input-2-90585302a1c8>\u001b[0m in \u001b[0;36m<module>\u001b[0;34m()\u001b[0m\n\u001b[1;32m      3\u001b[0m \u001b[0msys\u001b[0m\u001b[0;34m.\u001b[0m\u001b[0mpath\u001b[0m\u001b[0;34m.\u001b[0m\u001b[0mappend\u001b[0m\u001b[0;34m(\u001b[0m\u001b[0;34m'/usr/local/opt/python@2/Frameworks/Python.framework/Versions/2.7/lib/python2.7/site-packages'\u001b[0m\u001b[0;34m)\u001b[0m\u001b[0;34m\u001b[0m\u001b[0m\n\u001b[1;32m      4\u001b[0m \u001b[0msys\u001b[0m\u001b[0;34m.\u001b[0m\u001b[0mpath\u001b[0m\u001b[0;34m.\u001b[0m\u001b[0mappend\u001b[0m\u001b[0;34m(\u001b[0m\u001b[0;34m'/usr/share/gwyddion/pygwy'\u001b[0m\u001b[0;34m)\u001b[0m\u001b[0;34m\u001b[0m\u001b[0m\n\u001b[0;32m----> 5\u001b[0;31m \u001b[0;32mimport\u001b[0m \u001b[0mgtk\u001b[0m\u001b[0;34m\u001b[0m\u001b[0m\n\u001b[0m\u001b[1;32m      6\u001b[0m \u001b[0;32mimport\u001b[0m \u001b[0mpygtk\u001b[0m\u001b[0;34m\u001b[0m\u001b[0m\n\u001b[1;32m      7\u001b[0m \u001b[0mpygtk\u001b[0m\u001b[0;34m.\u001b[0m\u001b[0mrequire20\u001b[0m\u001b[0;34m(\u001b[0m\u001b[0;34m)\u001b[0m \u001b[0;31m# adds gtk-2.0 folder to sys.path\u001b[0m\u001b[0;34m\u001b[0m\u001b[0m\n",
      "\u001b[0;31mImportError\u001b[0m: No module named gtk"
     ]
    }
   ],
   "source": [
    "#Some python libs have to be added via PATH since they are near gwyddion\n",
    "import sys\n",
    "sys.path.append('/usr/local/opt/python@2/Frameworks/Python.framework/Versions/2.7/lib/python2.7/site-packages')\n",
    "sys.path.append('/usr/share/gwyddion/pygwy')\n",
    "import gtk\n",
    "import pygtk\n",
    "pygtk.require20() # adds gtk-2.0 folder to sys.path\n",
    "sys.path.append('/usr/local/Cellar/gwyddion/2.52/share/gwyddion/pygwy')\n",
    "import gwyutils\n",
    "#Importing all other necessary libraries from the python surounding \n",
    "import gwy\n",
    "import os, time\n",
    "import numpy\n",
    "import matplotlib.pyplot as plt\n",
    "import matplotlib.colors as colors\n",
    "import matplotlib.cm as cmx\n",
    "import matplotlib as mpl\n",
    "import numpy as np\n",
    "from scipy.stats import norm\n",
    "from scipy.stats import halfnorm\n",
    "from scipy.optimize import curve_fit\n",
    "from scipy.signal import find_peaks\n",
    "import scipy.signal\n",
    "import sys \n",
    "import pandas as pd  "
   ]
  }
 ],
 "metadata": {
  "kernelspec": {
   "display_name": "base",
   "language": "python",
   "name": "python3"
  },
  "language_info": {
   "codemirror_mode": {
    "name": "ipython",
    "version": 2
   },
   "file_extension": ".py",
   "mimetype": "text/x-python",
   "name": "python",
   "nbconvert_exporter": "python",
   "pygments_lexer": "ipython2",
   "version": "2.7.16"
  }
 },
 "nbformat": 4,
 "nbformat_minor": 2
}
